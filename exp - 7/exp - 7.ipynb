{
 "cells": [
  {
   "cell_type": "code",
   "execution_count": 2,
   "id": "d3e5e7fa-20f5-4b0e-9e65-eece3b0392db",
   "metadata": {},
   "outputs": [],
   "source": [
    "import pandas as pd"
   ]
  },
  {
   "cell_type": "code",
   "execution_count": 6,
   "id": "9f5fd9af-4c68-416b-a41b-aa0bc67e3eb6",
   "metadata": {},
   "outputs": [
    {
     "name": "stdout",
     "output_type": "stream",
     "text": [
      "    age  Gender  Family  diet  Lifestyle  cholestrol  heartdisease\n",
      "0     0       0       1     1          3           0             1\n",
      "1     0       1       1     1          3           0             1\n",
      "2     1       0       0     0          2           1             1\n",
      "3     4       0       1     1          3           2             0\n",
      "4     3       1       1     0          0           2             0\n",
      "5     2       0       1     1          1           0             1\n",
      "6     4       0       1     0          2           0             1\n",
      "7     0       0       1     1          3           0             1\n",
      "8     3       1       1     0          0           2             0\n",
      "9     1       1       0     0          0           2             1\n",
      "10    4       1       0     1          2           0             1\n",
      "11    4       0       1     1          3           2             0\n",
      "12    2       1       0     0          0           0             0\n",
      "13    2       0       1     1          1           0             1\n",
      "14    3       1       1     0          0           1             0\n",
      "15    0       0       1     0          0           2             1\n",
      "16    1       1       0     1          2           1             1\n",
      "17    3       1       1     1          0           1             0\n",
      "18    4       0       1     1          3           2             0\n"
     ]
    }
   ],
   "source": [
    "data=pd.read_csv(r\"C:\\Users\\goura\\Desktop\\PythonProjects\\exp - 7\\heartdisease.csv\")\n",
    "heart_disease=pd.DataFrame(data)\n",
    "print(heart_disease)"
   ]
  },
  {
   "cell_type": "code",
   "execution_count": 23,
   "id": "6249bc67-d787-4bcd-a63d-7d9795dbbc8a",
   "metadata": {},
   "outputs": [],
   "source": [
    "from pgmpy.models import BayesianNetwork\n",
    "\n",
    "# Define Bayesian Model\n",
    "model = BayesianNetwork([\n",
    "    ('age', 'Lifestyle'),\n",
    "    ('Gender', 'Lifestyle'),\n",
    "    ('Family', 'heartdisease'),\n",
    "    ('diet', 'cholestrol'),\n",
    "    ('Lifestyle', 'diet'),\n",
    "    ('cholestrol', 'heartdisease'),\n",
    "    ('diet', 'cholestrol')\n",
    "])\n",
    "\n",
    "# Now use MaximumLikelihoodEstimator\n",
    "from pgmpy.estimators import MaximumLikelihoodEstimator\n",
    "\n",
    "# Fit the model\n",
    "model.fit(heart_disease, estimator=MaximumLikelihoodEstimator)"
   ]
  },
  {
   "cell_type": "code",
   "execution_count": 13,
   "id": "f4b556f6-c071-4e1e-ae0b-66ee94daa5c2",
   "metadata": {},
   "outputs": [],
   "source": [
    "from pgmpy.inference import VariableElimination\n",
    "HeartDisease_infer = VariableElimination(model)"
   ]
  },
  {
   "cell_type": "code",
   "execution_count": 29,
   "id": "d9929e0a-f559-43a9-99c6-11a9557c46cf",
   "metadata": {},
   "outputs": [
    {
     "name": "stdout",
     "output_type": "stream",
     "text": [
      "For age Enter { SuperSeniorCitizen:0, SeniorCitizen:1, MiddleAged:2, Youth:3, Teen:4 }\n",
      "For Gender Enter { Male:0, Female:1 }\n",
      "For Family History Enter { yes:1, No:0 }\n",
      "For diet Enter { High:0, Medium:1 }\n",
      "For lifeStyle Enter { Athlete:0, Active:1, Moderate:2, Sedentary:3 }\n",
      "For cholesterol Enter { High:0, BorderLine:1, Normal:2 }\n"
     ]
    },
    {
     "name": "stdin",
     "output_type": "stream",
     "text": [
      "Enter age : 3\n",
      "Enter Gender : 0\n",
      "Enter Family history : 1\n",
      "Enter diet : 1\n",
      "Enter Lifestyle : 2\n",
      "Enter cholestrol : 2\n"
     ]
    },
    {
     "name": "stderr",
     "output_type": "stream",
     "text": [
      "WARNING:pgmpy:BayesianModel has been renamed to BayesianNetwork. Please use BayesianNetwork class, BayesianModel will be removed in future.\n",
      "WARNING:pgmpy:BayesianModel has been renamed to BayesianNetwork. Please use BayesianNetwork class, BayesianModel will be removed in future.\n"
     ]
    },
    {
     "name": "stdout",
     "output_type": "stream",
     "text": [
      "+-----------------+---------------------+\n",
      "| heartdisease    |   phi(heartdisease) |\n",
      "+=================+=====================+\n",
      "| heartdisease(0) |              0.8333 |\n",
      "+-----------------+---------------------+\n",
      "| heartdisease(1) |              0.1667 |\n",
      "+-----------------+---------------------+\n"
     ]
    }
   ],
   "source": [
    "print('For age Enter { SuperSeniorCitizen:0, SeniorCitizen:1, MiddleAged:2, Youth:3, Teen:4 }')\n",
    "print('For Gender Enter { Male:0, Female:1 }')\n",
    "print('For Family History Enter { yes:1, No:0 }')\n",
    "print('For diet Enter { High:0, Medium:1 }')\n",
    "print('For lifeStyle Enter { Athlete:0, Active:1, Moderate:2, Sedentary:3 }')\n",
    "print('For cholesterol Enter { High:0, BorderLine:1, Normal:2 }')\n",
    "\n",
    "q = HeartDisease_infer.query(variables=['heartdisease'], evidence={\n",
    "    'age':int(input('Enter age :')),\n",
    "    'Gender':int(input('Enter Gender :')),\n",
    "    'Family':int(input('Enter Family history :')),\n",
    "    'diet':int(input('Enter diet :')),\n",
    "    'Lifestyle':int(input('Enter Lifestyle :')),\n",
    "    'cholestrol':int(input('Enter cholestrol :'))\n",
    "    })\n",
    "\n",
    "print(q)"
   ]
  },
  {
   "cell_type": "code",
   "execution_count": null,
   "id": "8c356a20-7808-4e87-81d5-1cb5073e3800",
   "metadata": {},
   "outputs": [],
   "source": []
  }
 ],
 "metadata": {
  "kernelspec": {
   "display_name": "Python 3 (ipykernel)",
   "language": "python",
   "name": "python3"
  },
  "language_info": {
   "codemirror_mode": {
    "name": "ipython",
    "version": 3
   },
   "file_extension": ".py",
   "mimetype": "text/x-python",
   "name": "python",
   "nbconvert_exporter": "python",
   "pygments_lexer": "ipython3",
   "version": "3.12.7"
  }
 },
 "nbformat": 4,
 "nbformat_minor": 5
}
