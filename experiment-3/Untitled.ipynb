{
 "cells": [
  {
   "cell_type": "code",
   "execution_count": 1,
   "id": "e4976bd5-6b3f-45f9-af0a-373dff703894",
   "metadata": {},
   "outputs": [],
   "source": [
    "import math\n",
    "import csv"
   ]
  },
  {
   "cell_type": "code",
   "execution_count": 3,
   "id": "d8f2b9ad-816c-42ff-9df9-8d10de12f295",
   "metadata": {},
   "outputs": [],
   "source": [
    "class Node:\n",
    "    def __init__(self, attribute):\n",
    "        self.attribute = attribute\n",
    "        self.children = []\n",
    "        self.answer = \"\""
   ]
  },
  {
   "cell_type": "code",
   "execution_count": 7,
   "id": "9b192380-1bc7-4dc2-b3dd-bb3a6b723482",
   "metadata": {},
   "outputs": [],
   "source": [
    "def load_csv(filename):\n",
    "    with open(r'C:\\Users\\goura\\Desktop\\Python projects\\experiment-3\\Book1.csv') as file:\n",
    "        lines = csv.reader(file)\n",
    "        dataset = list(lines)\n",
    "    headers = dataset.pop(0)\n",
    "    return dataset, headers"
   ]
  },
  {
   "cell_type": "code",
   "execution_count": 9,
   "id": "07147fdf-857e-4b17-99ef-ddaad6ac2d54",
   "metadata": {},
   "outputs": [],
   "source": [
    "def subtables(data, col, delete=False):\n",
    "    dic = {}\n",
    "    coldata = [row[col] for row in data]\n",
    "    attr = list(set(coldata))\n",
    "    counts = [0] * len(attr)\n",
    "    for x in range(len(attr)):\n",
    "        for y in range(len(data)):\n",
    "            if data[y][col] == attr[x]:\n",
    "                counts[x] += 1\n",
    "\n",
    "    for x in range(len(attr)):\n",
    "        dic[attr[x]] = []\n",
    "        for y in range(len(data)):\n",
    "            if data[y][col] == attr[x]:\n",
    "                if delete:\n",
    "                    dic[attr[x]].append(data[y][:col] + data[y][col + 1 :])\n",
    "                else:\n",
    "                    dic[attr[x]].append(data[y])\n",
    "    return attr, dic"
   ]
  },
  {
   "cell_type": "code",
   "execution_count": 11,
   "id": "030a88a5-fdf9-4bb6-bd0e-bdcded205997",
   "metadata": {},
   "outputs": [],
   "source": [
    "def entropy(S):\n",
    "    attr = list(set(S))\n",
    "    if len(attr) == 1:\n",
    "        return 0\n",
    "    counts = [0] * len(attr)\n",
    "    for i in range(len(attr)):\n",
    "        counts[i] = S.count(attr[i]) / (len(S) * 1.0)\n",
    "\n",
    "    sums = 0\n",
    "    for cnt in counts:\n",
    "        sums += -1 * cnt * math.log(cnt, 2)\n",
    "    return sums"
   ]
  },
  {
   "cell_type": "code",
   "execution_count": 13,
   "id": "a156446d-4c89-481d-b703-6b7bdf9dae9b",
   "metadata": {},
   "outputs": [],
   "source": [
    "def compute_gain(data, col):\n",
    "    attr, dic = subtables(data, col, delete=False)\n",
    "    total_size = len(data)\n",
    "    entropies = [0] * len(attr)\n",
    "    ratio = [0] * len(attr)\n",
    "\n",
    "    total_entropy = entropy([row[-1] for row in data])\n",
    "    for x in range(len(attr)):\n",
    "        ratio[x] = len(dic[attr[x]]) / (total_size * 1.0)\n",
    "        entropies[x] = entropy([row[-1] for row in dic[attr[x]]])\n",
    "        total_entropy -= ratio[x] * entropies[x]\n",
    "    return total_entropy"
   ]
  },
  {
   "cell_type": "code",
   "execution_count": 15,
   "id": "df67f6fa-0d00-44ec-9b9e-c8f86f956f66",
   "metadata": {},
   "outputs": [],
   "source": [
    "def build_tree(data, features):\n",
    "    lastcol = [row[-1] for row in data]\n",
    "    if len(set(lastcol)) == 1:\n",
    "        node = Node(\"\")\n",
    "        node.answer = lastcol[0]\n",
    "        return node\n",
    "\n",
    "    n = len(data[0]) - 1\n",
    "    gains = [0] * n\n",
    "    for col in range(n):\n",
    "        gains[col] = compute_gain(data, col)\n",
    "\n",
    "    split = gains.index(max(gains))\n",
    "    node = Node(features[split])\n",
    "    fea = features[:split] + features[split + 1 :]\n",
    "    attr, dic = subtables(data, split, delete=True)\n",
    "\n",
    "    for x in range(len(attr)):\n",
    "        child = build_tree(dic[attr[x]], fea)\n",
    "        node.children.append((attr[x], child))\n",
    "    return node"
   ]
  },
  {
   "cell_type": "code",
   "execution_count": 17,
   "id": "8c6487eb-6677-420c-b183-e3f304dcf095",
   "metadata": {},
   "outputs": [],
   "source": [
    "def print_tree(node, level=0):\n",
    "    if node.answer != \"\":\n",
    "        print(\" \" * level, node.answer)\n",
    "        return\n",
    "\n",
    "    print(\" \" * level, node.attribute)\n",
    "    for value, n in node.children:\n",
    "        print(\" \" * (level + 1), value)\n",
    "        print_tree(n, level + 2)"
   ]
  },
  {
   "cell_type": "code",
   "execution_count": 19,
   "id": "229f7a3d-c0d1-4229-a5c4-8f23233c982d",
   "metadata": {},
   "outputs": [],
   "source": [
    "def classify(node, x_test, features):\n",
    "    if node.answer != \"\":\n",
    "        return node.answer\n",
    "\n",
    "    pos = features.index(node.attribute)\n",
    "    for value, n in node.children:\n",
    "        if x_test[pos] == value:\n",
    "            return classify(n, x_test, features)"
   ]
  },
  {
   "cell_type": "code",
   "execution_count": 21,
   "id": "ffeb3662-0e5d-4773-9430-d82cff095288",
   "metadata": {},
   "outputs": [],
   "source": [
    "# Main Program\n",
    "train_data, train_features = load_csv(\"data3.csv\")\n",
    "test_data, test_features = load_csv(\"data3_test.csv\")"
   ]
  },
  {
   "cell_type": "code",
   "execution_count": 23,
   "id": "2430d863-1be4-4027-b013-eefe220d460f",
   "metadata": {},
   "outputs": [],
   "source": [
    "tree = build_tree(train_data, train_features)"
   ]
  },
  {
   "cell_type": "code",
   "execution_count": 25,
   "id": "0291a4c7-48bb-4072-b3d2-ce28631bcc78",
   "metadata": {},
   "outputs": [
    {
     "name": "stdout",
     "output_type": "stream",
     "text": [
      "The decision tree for the dataset using ID3 algorithm is:\n",
      " Day\n",
      "  D1\n",
      "   No\n",
      "  D10\n",
      "   Yes\n",
      "  D3\n",
      "   Yes\n",
      "  D9\n",
      "   Yes\n",
      "  D8\n",
      "   No\n",
      "  D13\n",
      "   Yes\n",
      "  D11\n",
      "   Yes\n",
      "  D4\n",
      "   Yes\n",
      "  D12\n",
      "   Yes\n",
      "  D14\n",
      "   No\n",
      "  D7\n",
      "   Yes\n",
      "  D6\n",
      "   No\n",
      "  D2\n",
      "   No\n",
      "  D5\n",
      "   Yes\n"
     ]
    }
   ],
   "source": [
    "print(\"The decision tree for the dataset using ID3 algorithm is:\")\n",
    "print_tree(tree)"
   ]
  },
  {
   "cell_type": "code",
   "execution_count": 27,
   "id": "5cf133db-be35-4b2f-8706-05fc029294f1",
   "metadata": {},
   "outputs": [
    {
     "name": "stdout",
     "output_type": "stream",
     "text": [
      "\n",
      "Classification results:\n",
      "Test instance: ['D1', 'Sunny', 'Hot', 'High', 'Weak', 'No']\n",
      "Classified as: No\n",
      "Test instance: ['D2', 'Sunny', 'Hot', 'High', 'Strong', 'No']\n",
      "Classified as: No\n",
      "Test instance: ['D3', 'Overcast', 'Hot', 'High', 'Weak', 'Yes']\n",
      "Classified as: Yes\n",
      "Test instance: ['D4', 'Rain', 'Mild', 'High', 'Weak', 'Yes']\n",
      "Classified as: Yes\n",
      "Test instance: ['D5', 'Rain', 'Cool', 'Normal', 'Weak', 'Yes']\n",
      "Classified as: Yes\n",
      "Test instance: ['D6', 'Rain', 'Cool', 'Normal', 'Strong', 'No']\n",
      "Classified as: No\n",
      "Test instance: ['D7', 'Overcast', 'Cool', 'Normal', 'Strong', 'Yes']\n",
      "Classified as: Yes\n",
      "Test instance: ['D8', 'Sunny', 'Mild', 'High', 'Weak', 'No']\n",
      "Classified as: No\n",
      "Test instance: ['D9', 'Sunny', 'Cool', 'Normal', 'Weak', 'Yes']\n",
      "Classified as: Yes\n",
      "Test instance: ['D10', 'Rain', 'Mild', 'Normal', 'Weak', 'Yes']\n",
      "Classified as: Yes\n",
      "Test instance: ['D11', 'Sunny', 'Mild', 'Normal', 'Strong', 'Yes']\n",
      "Classified as: Yes\n",
      "Test instance: ['D12', 'Overcast', 'Mild', 'High', 'Strong', 'Yes']\n",
      "Classified as: Yes\n",
      "Test instance: ['D13', 'Overcast', 'Hot', 'Normal', 'Weak', 'Yes']\n",
      "Classified as: Yes\n",
      "Test instance: ['D14', 'Rain', 'Mild', 'High', 'Strong', 'No']\n",
      "Classified as: No\n"
     ]
    }
   ],
   "source": [
    "print(\"\\nClassification results:\")\n",
    "for test in test_data:\n",
    "    print(f\"Test instance: {test}\")\n",
    "    label = classify(tree, test, train_features)\n",
    "    print(f\"Classified as: {label}\")"
   ]
  },
  {
   "cell_type": "code",
   "execution_count": null,
   "id": "7194614b-228e-489b-aa45-7805b7b8df45",
   "metadata": {},
   "outputs": [],
   "source": []
  }
 ],
 "metadata": {
  "kernelspec": {
   "display_name": "Python 3 (ipykernel)",
   "language": "python",
   "name": "python3"
  },
  "language_info": {
   "codemirror_mode": {
    "name": "ipython",
    "version": 3
   },
   "file_extension": ".py",
   "mimetype": "text/x-python",
   "name": "python",
   "nbconvert_exporter": "python",
   "pygments_lexer": "ipython3",
   "version": "3.12.7"
  }
 },
 "nbformat": 4,
 "nbformat_minor": 5
}
