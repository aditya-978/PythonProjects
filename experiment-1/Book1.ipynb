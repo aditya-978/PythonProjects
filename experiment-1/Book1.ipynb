{
 "cells": [
  {
   "cell_type": "code",
   "execution_count": 3,
   "id": "e87efd69-56e6-4936-abb3-9b30317467a0",
   "metadata": {},
   "outputs": [],
   "source": [
    "import pandas as pd\n",
    "import numpy as np\n",
    "import csv"
   ]
  },
  {
   "cell_type": "code",
   "execution_count": 5,
   "id": "2d08224f-c9f9-4463-9679-c98792d4f314",
   "metadata": {},
   "outputs": [],
   "source": [
    "training_data = []"
   ]
  },
  {
   "cell_type": "code",
   "execution_count": 7,
   "id": "e436f25e-c996-4b22-8a4e-3482b4a85b9e",
   "metadata": {},
   "outputs": [],
   "source": [
    "with open(r'C:\\Users\\goura\\Desktop\\Python projects\\experiment-1\\Book1.csv', 'r') as csvfile:\n",
    "    for row in csv.reader(csvfile):\n",
    "        training_data.append(row)"
   ]
  },
  {
   "cell_type": "code",
   "execution_count": 9,
   "id": "3023fc2f-cb59-489f-9d5d-86332421080f",
   "metadata": {},
   "outputs": [
    {
     "name": "stdout",
     "output_type": "stream",
     "text": [
      "\n",
      "Training Data:\n",
      "['example', 'colour', 'toughness', 'fungus', 'appearance', 'poisonous']\n",
      "['1', 'green', 'hard', 'no', 'wrinkled', 'yes']\n",
      "['2', 'green', 'hard', 'yes', 'smooth', 'no']\n",
      "['3', 'brown', 'soft', 'no', 'wrinkled', 'no']\n",
      "['4', 'orange', 'hard', 'no', 'wrinkled', 'yes']\n",
      "['5', 'green', 'soft', 'yes', 'smooth', 'yes']\n",
      "['6', 'green', 'hard', 'yes', 'wrinkled', 'yes']\n",
      "['7', 'orange', 'hard', 'no', 'wrinkled', 'yes']\n"
     ]
    }
   ],
   "source": [
    "print(\"\\nTraining Data:\")\n",
    "for row in training_data:\n",
    "    print(row)"
   ]
  },
  {
   "cell_type": "code",
   "execution_count": 11,
   "id": "ee36b738-b0f9-4391-b50f-6dcee3c6a5a9",
   "metadata": {},
   "outputs": [],
   "source": [
    "num_attributes = len(training_data[0]) - 1"
   ]
  },
  {
   "cell_type": "code",
   "execution_count": 13,
   "id": "0599df27-714a-4d8a-9a0c-33ef199b72bd",
   "metadata": {},
   "outputs": [
    {
     "name": "stdout",
     "output_type": "stream",
     "text": [
      "\n",
      "The initial hypothesis is:\n",
      "['0', '0', '0', '0', '0']\n"
     ]
    }
   ],
   "source": [
    "hypothesis = ['0'] * num_attributes\n",
    "print(\"\\nThe initial hypothesis is:\")\n",
    "print(hypothesis)"
   ]
  },
  {
   "cell_type": "code",
   "execution_count": 15,
   "id": "73ef5023-b07b-44d8-810e-40a532597d65",
   "metadata": {},
   "outputs": [
    {
     "name": "stdout",
     "output_type": "stream",
     "text": [
      "\n",
      "Hypothesis after training instance 2: ['1', 'green', 'hard', 'no', 'wrinkled']\n",
      "\n",
      "Hypothesis after training instance 5: ['?', '?', 'hard', 'no', 'wrinkled']\n",
      "\n",
      "Hypothesis after training instance 6: ['?', '?', '?', '?', '?']\n",
      "\n",
      "Hypothesis after training instance 7: ['?', '?', '?', '?', '?']\n",
      "\n",
      "Hypothesis after training instance 8: ['?', '?', '?', '?', '?']\n"
     ]
    }
   ],
   "source": [
    "for i in range(len(training_data)):\n",
    "    if training_data[i][num_attributes].lower() == 'yes':  # Check if the instance is positive\n",
    "        for j in range(num_attributes):\n",
    "            if hypothesis[j] == '0' or hypothesis[j] == training_data[i][j]:\n",
    "                hypothesis[j] = training_data[i][j]\n",
    "            else:\n",
    "                hypothesis[j] = '?'\n",
    "        print(f\"\\nHypothesis after training instance {i + 1}: {hypothesis}\")"
   ]
  },
  {
   "cell_type": "code",
   "execution_count": 17,
   "id": "383d3e7d-f3fb-43b1-85c7-8fbd9bfaa15e",
   "metadata": {},
   "outputs": [
    {
     "name": "stdout",
     "output_type": "stream",
     "text": [
      "\n",
      "The maximally specific hypothesis is:\n",
      "['?', '?', '?', '?', '?']\n"
     ]
    }
   ],
   "source": [
    "print(\"\\nThe maximally specific hypothesis is:\")\n",
    "print(hypothesis)"
   ]
  },
  {
   "cell_type": "code",
   "execution_count": null,
   "id": "6f3094b9-d2d2-4dd6-9d29-96a060817e2b",
   "metadata": {},
   "outputs": [],
   "source": []
  }
 ],
 "metadata": {
  "kernelspec": {
   "display_name": "Python 3 (ipykernel)",
   "language": "python",
   "name": "python3"
  },
  "language_info": {
   "codemirror_mode": {
    "name": "ipython",
    "version": 3
   },
   "file_extension": ".py",
   "mimetype": "text/x-python",
   "name": "python",
   "nbconvert_exporter": "python",
   "pygments_lexer": "ipython3",
   "version": "3.12.7"
  }
 },
 "nbformat": 4,
 "nbformat_minor": 5
}
