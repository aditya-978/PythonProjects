{
 "cells": [
  {
   "cell_type": "code",
   "execution_count": 2,
   "id": "2fc70766-0790-40b8-bb16-f2e576b038da",
   "metadata": {},
   "outputs": [],
   "source": [
    "import numpy as np\n",
    "import pandas as pd"
   ]
  },
  {
   "cell_type": "code",
   "execution_count": 4,
   "id": "3c091012-f75d-476b-89fa-919c9672d592",
   "metadata": {},
   "outputs": [],
   "source": [
    "data = pd.read_csv(r'C:\\Users\\goura\\Desktop\\PythonProjects\\experiment- 2\\Book1.csv')"
   ]
  },
  {
   "cell_type": "code",
   "execution_count": 6,
   "id": "0c74649c-e49f-4b3a-ae03-87f1663a1269",
   "metadata": {},
   "outputs": [],
   "source": [
    "concepts = np.array(data.iloc[:,:-1])\n",
    "target = np.array(data.iloc[:,-1])"
   ]
  },
  {
   "cell_type": "code",
   "execution_count": 8,
   "id": "bcfd7c53-ce7e-47a2-90fb-d7fc10acfc26",
   "metadata": {},
   "outputs": [
    {
     "name": "stdout",
     "output_type": "stream",
     "text": [
      "Training Data (Concepts): \n",
      "[[1 'Sunny' 'Warm' 'Normal' 'Strong' 'Warm' 'Same']\n",
      " [2 'Sunny' 'Warm' 'High' 'Strong' 'Warm' 'Same']\n",
      " [3 'Rainy' 'Cold' 'High' 'Strong' 'Warm' 'Change']\n",
      " [4 'Sunny' 'Warm' 'High' 'Strong' 'Cool' 'Change']]\n",
      "\n",
      "Target: \n",
      "['Yes' 'Yes' 'No' 'Yes']\n"
     ]
    }
   ],
   "source": [
    "print(\"Training Data (Concepts): \")\n",
    "print(concepts)\n",
    "print(\"\\nTarget: \")\n",
    "print(target)"
   ]
  },
  {
   "cell_type": "code",
   "execution_count": 10,
   "id": "162ce4b6-c708-4344-a6f2-6c32401ed668",
   "metadata": {},
   "outputs": [],
   "source": [
    "def candidate_elimination(concepts, target):\n",
    "    num_attributes = concepts.shape[1]\n",
    "    S = [\"Null\"] * num_attributes  # Start with most specific hypothesis\n",
    "    G = [[\"?\"] * num_attributes]   # Start with most general hypothesis\n",
    "\n",
    "    print(\"\\nInitial S: \", S)\n",
    "    print(\"Initial G: \", G)\n",
    "\n",
    "    for i, instance in enumerate(concepts):\n",
    "        if target[i] == \"Yes\":  # Positive example\n",
    "            for j in range(num_attributes):  # Ensure indentation here\n",
    "                if S[j] == \"Null\":\n",
    "                    S[j] = instance[j]\n",
    "                elif S[j] != instance[j]:\n",
    "                    S[j] = \"?\"\n",
    "\n",
    "            # Remove inconsistent hypotheses from G\n",
    "            G = [g for g in G if all(\n",
    "                g[k] == \"?\" or g[k] == instance[k] for k in range(num_attributes)\n",
    "            )]\n",
    "\n",
    "        elif target[i] == \"No\":  # Negative example\n",
    "            new_G = []\n",
    "            for g in G:\n",
    "                for j in range(num_attributes):\n",
    "                    if g[j] == \"?\":\n",
    "                        for val in np.unique(concepts[:, j]):  # Removed `;`\n",
    "                            if val != instance[j] and S[j] in (\"?\", val):\n",
    "                                new_hypothesis = list(g)  # Use list() instead of copy()\n",
    "                                new_hypothesis[j] = val\n",
    "                                new_G.append(new_hypothesis)\n",
    "                    else:\n",
    "                        if g[j] != instance[j]:\n",
    "                            new_G.append(g)\n",
    "            G = new_G  # Update G\n",
    "            #Remove more general hypothesis from G\n",
    "            G = [g for g in G if not any(\n",
    "                all((g[m] == \"?\" or g[m] == other[m]) for m in range(num_attributes))\n",
    "                and g!= other for other in G\n",
    "            )]\n",
    "            print(f\"\\nStep {i+1}: Instance {instance} -> Target: {target[i]}\")\n",
    "            print (\"S: \", S)\n",
    "            print (\"G: \", G)\n",
    "        return S,G"
   ]
  },
  {
   "cell_type": "code",
   "execution_count": 12,
   "id": "ad2a9106-7f0c-4814-a367-3939ef61bfa1",
   "metadata": {},
   "outputs": [
    {
     "name": "stdout",
     "output_type": "stream",
     "text": [
      "\n",
      "Initial S:  ['Null', 'Null', 'Null', 'Null', 'Null', 'Null', 'Null']\n",
      "Initial G:  [['?', '?', '?', '?', '?', '?', '?']]\n"
     ]
    }
   ],
   "source": [
    "#Run the candidate elimination Algorithm\n",
    "final_S, final_G = candidate_elimination(concepts, target)"
   ]
  },
  {
   "cell_type": "code",
   "execution_count": 14,
   "id": "5b0aba7c-979a-4efa-ab12-820b30e1509f",
   "metadata": {},
   "outputs": [
    {
     "name": "stdout",
     "output_type": "stream",
     "text": [
      "\n",
      "Final S (Specific Hypothesis):  [1, 'Sunny', 'Warm', 'Normal', 'Strong', 'Warm', 'Same']\n",
      "Final G (General Hypothesis):  [['?', '?', '?', '?', '?', '?', '?']]\n"
     ]
    }
   ],
   "source": [
    "#output the final version space\n",
    "print(\"\\nFinal S (Specific Hypothesis): \", final_S)\n",
    "print(\"Final G (General Hypothesis): \", final_G)"
   ]
  },
  {
   "cell_type": "code",
   "execution_count": null,
   "id": "345042ef-2631-4a01-91ff-35f52975bc5c",
   "metadata": {},
   "outputs": [],
   "source": []
  }
 ],
 "metadata": {
  "kernelspec": {
   "display_name": "Python 3 (ipykernel)",
   "language": "python",
   "name": "python3"
  },
  "language_info": {
   "codemirror_mode": {
    "name": "ipython",
    "version": 3
   },
   "file_extension": ".py",
   "mimetype": "text/x-python",
   "name": "python",
   "nbconvert_exporter": "python",
   "pygments_lexer": "ipython3",
   "version": "3.12.7"
  }
 },
 "nbformat": 4,
 "nbformat_minor": 5
}
